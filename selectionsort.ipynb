{
  "nbformat": 4,
  "nbformat_minor": 0,
  "metadata": {
    "colab": {
      "name": "selectionsort.ipynb",
      "provenance": [],
      "collapsed_sections": []
    },
    "kernelspec": {
      "name": "python3",
      "display_name": "Python 3"
    },
    "language_info": {
      "name": "python"
    }
  },
  "cells": [
    {
      "cell_type": "code",
      "execution_count": null,
      "metadata": {
        "colab": {
          "base_uri": "https://localhost:8080/"
        },
        "id": "eXDYgimLUEiM",
        "outputId": "f19a479c-43be-4376-c13e-01640a2f2507"
      },
      "outputs": [
        {
          "output_type": "stream",
          "name": "stdout",
          "text": [
            "Enter any Numbers: 2,3,4,44,11,21,32,12\n",
            "2\n",
            "3\n",
            "4\n",
            "11\n",
            "12\n",
            "21\n",
            "32\n",
            "44\n"
          ]
        }
      ],
      "source": [
        "def selectionsort(array):\n",
        "  n = len (array)\n",
        "  for i in range(n):\n",
        "    min_index = i \n",
        "    for j in range(i + 1 ,n):\n",
        "      if array[min_index]>array[j]:\n",
        "        min_index = j \n",
        "    array[i],array[min_index] = array[min_index],array[i]\n",
        "\n",
        "numbers = input(\"Enter any Numbers (Seperated by Commas): \").split(\",\")\n",
        "arraytosort = []\n",
        "for i in numbers:\n",
        "   arraytosort.append(int(i))\n",
        "selectionsort(arraytosort)\n",
        "for i in range(len(arraytosort)):\n",
        "  print(arraytosort[i],end= \"\\n\")\n"
      ]
    },
    {
      "cell_type": "code",
      "source": [
        "def selectionsort(array):\n",
        "  n = len (array)\n",
        "  for i in range(n):\n",
        "    min_index = i \n",
        "    for j in range(i + 1 ,n):\n",
        "      if array[min_index]<array[j]:\n",
        "        min_index = j \n",
        "    array[i],array[min_index] = array[min_index],array[i]\n",
        "  \n",
        "numbers = input(\"Enter any Numbers (Seperated by Commas): \").split(\",\")\n",
        "arraytosort = []\n",
        "for i in numbers:\n",
        "   arraytosort.append(int(i))\n",
        "selectionsort(arraytosort)\n",
        "for i in range(len(arraytosort)):\n",
        "  print(arraytosort[i],end= \"\\n\")\n"
      ],
      "metadata": {
        "colab": {
          "base_uri": "https://localhost:8080/"
        },
        "id": "sCWhwwexVcoW",
        "outputId": "a9d29ed6-71c7-4df8-f688-e30523e6eb9b"
      },
      "execution_count": null,
      "outputs": [
        {
          "output_type": "stream",
          "name": "stdout",
          "text": [
            "Enter your name: s,h,i,z,a\n",
            "sorted array\n",
            "a\n",
            "h\n",
            "i\n",
            "s\n",
            "z\n"
          ]
        }
      ]
    },
    {
      "cell_type": "code",
      "source": [
        "def selectionsort(array):\n",
        "  n = len (array)\n",
        "  for i in range(n):\n",
        "    min_index = i \n",
        "    for j in range(i + 1 ,n):\n",
        "      if array[min_index]<array[j]:\n",
        "        min_index = j \n",
        "    array[i],array[min_index] = array[min_index],array[i]\n",
        "  \n",
        "arraytosort  = input(\"Enter Your Name (Seperated by Spaces): \").split(\" \")\n",
        "selectionsort(arraytosort)\n",
        "for i in range(len(arraytosort)):\n",
        "  print(arraytosort[i],end= \"\\n\")\n"
      ],
      "metadata": {
        "colab": {
          "base_uri": "https://localhost:8080/"
        },
        "id": "9R3ysNdfdC6p",
        "outputId": "d6b1f66c-ad71-4372-d96a-c34284e90d95"
      },
      "execution_count": null,
      "outputs": [
        {
          "output_type": "stream",
          "name": "stdout",
          "text": [
            "Enter Your Name (Seperated by Spaces): F a s i h m u h a m m a d\n",
            "u\n",
            "s\n",
            "m\n",
            "m\n",
            "m\n",
            "i\n",
            "h\n",
            "h\n",
            "d\n",
            "a\n",
            "a\n",
            "a\n",
            "F\n"
          ]
        }
      ]
    },
    {
      "cell_type": "code",
      "source": [
        "def selectionsort(array):\n",
        "  n = len (array)\n",
        "  for i in range(n):\n",
        "    min_index = i \n",
        "    for j in range(i + 1 ,n):\n",
        "      if array[min_index]>array[j]:\n",
        "        min_index = j \n",
        "    array[i],array[min_index] = array[min_index],array[i]\n",
        "  \n",
        "arraytosort  = input(\"Enter Your Name (Seperated by Spaces): \").split(\" \")\n",
        "selectionsort(arraytosort)\n",
        "for i in range(len(arraytosort)):\n",
        "  print(arraytosort[i],end= \"\\n\")\n"
      ],
      "metadata": {
        "id": "XhKQCA40djaH"
      },
      "execution_count": null,
      "outputs": []
    }
  ]
}